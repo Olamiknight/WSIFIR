{
 "cells": [
  {
   "cell_type": "code",
   "execution_count": null,
   "id": "2b8c15a5",
   "metadata": {},
   "outputs": [],
   "source": [
    "from collections.abc import Mapping\n",
    "from types import MappingProxyType\n",
    "from dataclasses import dataclass\n",
    "from typing import Any"
   ]
  },
  {
   "cell_type": "code",
   "execution_count": null,
   "id": "9d20fe4a",
   "metadata": {},
   "outputs": [],
   "source": [
    "@dataclass\n",
    "class ScaleConfig:\n",
    "\n",
    "    #\n",
    "    SCALE_9 = {\n",
    "        'type_of_transform': 'Affine',\n",
    "        'aff_metric': 'MI',\n",
    "        'aff_sampling': 32\n",
    "    }\n",
    "    #\n",
    "    STEPS = {'scale_9': SCALE_9}"
   ]
  },
  {
   "cell_type": "code",
   "execution_count": null,
   "id": "3b15340f",
   "metadata": {},
   "outputs": [],
   "source": [
    "class WSIFIRRegister:\n",
    "    \"\"\"\n",
    "    A class to handle registration of images at different scales using ANTsPy.\n",
    "\n",
    "    This class allows for the registration of images at specified scales with configurable parameters.\n",
    "    \n",
    "    Args:\n",
    "        steps: A list of steps to include in the registration process. If None, defaults to all scales defined in ScaleConfig.\n",
    "        scale_config: A mapping of scale configurations. If not provided, defaults to the configurations defined in ScaleConfig.STEPS.\n",
    "\n",
    "    \n",
    "    Note:\n",
    "        these my defaults for these steps\n",
    "    \"\"\"\n",
    "    def __init__(self, steps: list = None, scale_config: Mapping[str, Any] = MappingProxyType({})):\n",
    "        if steps is None:\n",
    "            steps = list(ScaleConfig.STEPS.keys())\n",
    "        scale_config = dict(scale_config)\n",
    "        self.scale_config = {}\n",
    "        for step in steps:\n",
    "           self.scale_config[step] = scale_config.get(step, ScaleConfig.STEPS[step])\n",
    "\n",
    "    def register(self, scale, fixed_image_ants, moving_image_ants, affine_init=None):\n",
    "        # Here you would implement the logic to register the scale configuration\n",
    "        print(f\"Registering scale: {scale}\")\n",
    "        registered_image = ants.registration(\n",
    "            fixed=fixed_image_ants, moving=moving_image_ants, initial_transform=affine_init,\n",
    "            **self.scale_config[scale]\n",
    "        )"
   ]
  },
  {
   "cell_type": "code",
   "execution_count": null,
   "id": "81bfe963",
   "metadata": {},
   "outputs": [],
   "source": [
    "register_class = WSIFIRRegister(scale = ['scale_9'])\n",
    "register_class.register(\n",
    "    scale='scale_9',\n",
    "    fixed_image_ants='fixed_image_placeholder',  # Replace with actual ANTs image object\n",
    "    moving_image_ants='moving_image_placeholder',  # Replace with actual ANTs image object\n",
    "    affine_init=None  # Replace with actual initial affine transform if needed\n",
    ")"
   ]
  }
 ],
 "metadata": {
  "kernelspec": {
   "display_name": "wsimir-env",
   "language": "python",
   "name": "python3"
  },
  "language_info": {
   "name": "python",
   "version": "3.10.18"
  }
 },
 "nbformat": 4,
 "nbformat_minor": 5
}
